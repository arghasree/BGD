{
 "cells": [
  {
   "cell_type": "code",
   "execution_count": null,
   "id": "4031bf4b",
   "metadata": {},
   "outputs": [
    {
     "name": "stderr",
     "output_type": "stream",
     "text": [
      "/Users/arghasreebanerjee/opt/anaconda3/envs/XAI_week1/lib/python3.10/site-packages/tqdm/auto.py:21: TqdmWarning: IProgress not found. Please update jupyter and ipywidgets. See https://ipywidgets.readthedocs.io/en/stable/user_install.html\n",
      "  from .autonotebook import tqdm as notebook_tqdm\n"
     ]
    }
   ],
   "source": [
    "import sys\n",
    "import os\n",
    "# For Jupyter notebooks, use getcwd() instead of __file__\n",
    "sys.path.append(os.path.join(os.getcwd(), '..'))\n",
    "\n",
    "from model_trainers.trainer import predict, evaluate\n",
    "from dataloaders.dataloading import *\n",
    "from util.search_util import *\n",
    "from dataloaders.custom_dataloader import *\n",
    "from models.model_mlp import *\n",
    "from models.model_small import *\n",
    "from dataloaders.get_all_samples import *\n",
    "from dataloaders.imbalanced_dataloader import *\n",
    "from masks.mask import *\n",
    "\n",
    "import torch.nn as nn\n",
    "from torch import optim\n",
    "import os\n",
    "import time\n",
    "import argparse\n",
    "import wandb\n",
    "import numpy as np\n",
    "\n",
    "device = \"cuda\" if torch.cuda.is_available() else \"cpu\""
   ]
  },
  {
   "cell_type": "code",
   "execution_count": 8,
   "id": "71606738",
   "metadata": {},
   "outputs": [],
   "source": [
    "dataset = 'MNIST'\n",
    "directory = \"/Users/arghasreebanerjee/PycharmProjects/BGD\"\n",
    "batch_size = 100\n",
    "random_seed = 42\n",
    "device = \"cuda\" if torch.cuda.is_available() else \"cpu\"\n",
    "learning_rate = 0.001\n",
    "weight_decay = 0.0001\n",
    "lr_decay = 0.1\n",
    "no_model = False\n",
    "model_directory = directory + f'/models/MLP/model_weights_mnist.pth'\n",
    "dataset_directory = directory + f'/MNIST'\n",
    "incorrect_loader_path = f'{directory}/dataloaders/MLP/MNIST_incorrect_loader.pth'\n",
    "avg_mask_dir =f'{directory}/masks/avg_mask_params.pth'"
   ]
  },
  {
   "cell_type": "code",
   "execution_count": 6,
   "id": "82965623",
   "metadata": {},
   "outputs": [
    {
     "name": "stdout",
     "output_type": "stream",
     "text": [
      "Total batches = 600\n"
     ]
    }
   ],
   "source": [
    "train_loader, valid_loader, test_loader = data_loader_MNIST(directory=directory,\n",
    "                                                            batch_size=batch_size,\n",
    "                                                            random_seed=random_seed,\n",
    "                                                            small=False,\n",
    "                                                            shuffle=False)"
   ]
  },
  {
   "cell_type": "code",
   "execution_count": 10,
   "id": "39674f82",
   "metadata": {},
   "outputs": [],
   "source": [
    "incorrect_loader = torch.load(incorrect_loader_path, map_location=torch.device(device))\n",
    "        \n",
    "image, _ = next(iter(train_loader))\n",
    "model = MLP(num_classes=10, input_size=image.size()[1:])\n",
    "model = model.to(device)\n",
    "model.load_state_dict(torch.load(model_directory, map_location=torch.device(device))) # map_loaction for running on local machine\n",
    "\n",
    "mask = Mask(model, random_seed=0, initial_type='uniform')\n",
    "mask = mask.to(device)\n",
    "avg_mask_params = torch.load(avg_mask_dir, map_location=torch.device(device))\n",
    "mask.mask_parameters = nn.ParameterList(nn.Parameter(p, requires_grad=True) for p in avg_mask_params)\n",
    "        "
   ]
  },
  {
   "cell_type": "code",
   "execution_count": null,
   "id": "6b4a3943",
   "metadata": {},
   "outputs": [],
   "source": [
    "def loader_performance(loaders, model, epoch):  # Always assumes you are passing test and incorrect loader in that order\n",
    "    names = ['train_loader','test_loader', 'incorrect_loader']\n",
    "    \n",
    "    for loader, name in zip(loaders, names):\n",
    "        y_true = []\n",
    "        y_hat = []\n",
    "        for img, label in loader:\n",
    "            img = img.to(device)\n",
    "            label = label.to(device)\n",
    "\n",
    "            output = model(img)\n",
    "            y_pred = torch.argmax(output, dim=1)\n",
    "            # print(y_pred)\n",
    "            # return None\n",
    "             # Convert tensors to lists for comparison\n",
    "            y_true.extend(label.cpu().numpy().tolist())\n",
    "            y_hat.extend(y_pred.cpu().numpy().tolist())\n",
    "        \n",
    "        # Convert lists to numpy arrays for comparison\n",
    "        y_true = np.array(y_true)\n",
    "        y_hat = np.array(y_hat)\n",
    "        \n",
    "        # Calculate accuracy\n",
    "        acc = np.mean(y_true == y_hat)\n",
    "        if name == 'incorrect_loader':\n",
    "            c=np.sum(y_true == y_hat)\n",
    "            print(f'Number of samples correctly predicted is {c}/{len(loader)}')\n",
    "        print(f\"Accuracy of {name} is {acc} at epoch {epoch}\")\n"
   ]
  },
  {
   "cell_type": "code",
   "execution_count": null,
   "id": "7dbc97ba",
   "metadata": {},
   "outputs": [
    {
     "name": "stdout",
     "output_type": "stream",
     "text": [
      "Accuracy of train_loader is 0.9285185185185185 at epoch 0\n",
      "Accuracy of test_loader is 0.9239 at epoch 0\n",
      "Number of samples correctly predicted is 100/710\n",
      "Accuracy of incorrect_loader is 0.14084507042253522 at epoch 0\n"
     ]
    }
   ],
   "source": [
    "loader_performance([train_loader, test_loader, incorrect_loader], mask, 'Final')"
   ]
  },
  {
   "cell_type": "code",
   "execution_count": null,
   "id": "21ce6f9d",
   "metadata": {},
   "outputs": [],
   "source": []
  }
 ],
 "metadata": {
  "kernelspec": {
   "display_name": "XAI_week1",
   "language": "python",
   "name": "python3"
  },
  "language_info": {
   "codemirror_mode": {
    "name": "ipython",
    "version": 3
   },
   "file_extension": ".py",
   "mimetype": "text/x-python",
   "name": "python",
   "nbconvert_exporter": "python",
   "pygments_lexer": "ipython3",
   "version": "3.10.11"
  }
 },
 "nbformat": 4,
 "nbformat_minor": 5
}
