{
 "cells": [
  {
   "cell_type": "code",
   "execution_count": 2,
   "id": "4b5bd08e",
   "metadata": {},
   "outputs": [
    {
     "name": "stderr",
     "output_type": "stream",
     "text": [
      "/Users/arghasreebanerjee/opt/anaconda3/envs/XAI_week1/lib/python3.10/site-packages/tqdm/auto.py:21: TqdmWarning: IProgress not found. Please update jupyter and ipywidgets. See https://ipywidgets.readthedocs.io/en/stable/user_install.html\n",
      "  from .autonotebook import tqdm as notebook_tqdm\n"
     ]
    }
   ],
   "source": [
    "import argparse\n",
    "from model_trainers.trainer import *\n",
    "from dataloaders.dataloading import *\n",
    "import torch.nn as nn\n",
    "from torch import optim\n",
    "from util.search_util import *\n",
    "from dataloaders.custom_dataloader import *\n",
    "from models.model_mlp import *\n",
    "from models.model_small import *\n",
    "import os\n",
    "import time\n",
    "from dataloaders.get_all_samples import *\n",
    "from dataloaders.imbalanced_dataloader import *\n",
    "from sklearn.manifold import TSNE"
   ]
  },
  {
   "cell_type": "markdown",
   "id": "106f8052",
   "metadata": {},
   "source": [
    "## Initial investigation"
   ]
  },
  {
   "cell_type": "code",
   "execution_count": 1,
   "id": "40157e9f",
   "metadata": {},
   "outputs": [],
   "source": [
    "# Get the training data\n",
    "# Select a random sample from the training data\n",
    "# Check the sample's z score\n",
    "# Check if the sample is an outlier or inlier \n",
    "# Get a pair of outlier and inlier\n",
    "# Retrain the model with this new pair  \n",
    "# Check the confidence score of the model before and after retraining\n"
   ]
  },
  {
   "cell_type": "code",
   "execution_count": 67,
   "id": "781d9ca0",
   "metadata": {},
   "outputs": [],
   "source": [
    "def visualize_outlier(mis, cor):\n",
    "    plt.figure(figsize=(8, 6))\n",
    "    plt.boxplot([mis, cor], labels=['Misclassified', 'Correctly Classified'])\n",
    "    plt.title('Range Comparison: Misclassified vs Correctly Classified')\n",
    "    plt.ylabel('Values')\n",
    "    plt.show()"
   ]
  },
  {
   "cell_type": "code",
   "execution_count": 70,
   "id": "75ee3655",
   "metadata": {},
   "outputs": [],
   "source": [
    "def find_z_scores(train_loader, model):\n",
    "    mis = []\n",
    "    cor = []\n",
    "    for batch in train_loader:\n",
    "        data, target = batch\n",
    "        mean = data.mean()\n",
    "        std = data.std()\n",
    "        for i in range(data.size(0)):\n",
    "            output = model(data[i])\n",
    "            z_score = (data[i] - mean) / std\n",
    "            if output.argmax() == target[i]:\n",
    "                cor.append(z_score.mean())\n",
    "            else:\n",
    "                mis.append(z_score.mean())\n",
    "            \n",
    "    visualize_outlier(mis, cor)\n",
    "    \n"
   ]
  },
  {
   "cell_type": "code",
   "execution_count": null,
   "id": "a7d3a5e2",
   "metadata": {},
   "outputs": [],
   "source": [
    "def visualize_dataset(train_loader, model):\n",
    "    mis = []\n",
    "    cor = []\n",
    "    for batch in train_loader:\n",
    "        data, target = batch\n",
    "\n",
    "        for i in range(data.size(0)):\n",
    "            output = model(data[i])\n",
    "\n",
    "            if output.argmax() == target[i]:\n",
    "                cor.append(data[i])\n",
    "            else:\n",
    "                mis.append(data[i])\n",
    "            \n",
    "    # Use t-SNE to visualize the dataset\n",
    "    all_imgs = np.array(mis + cor)  # shape: (N, 1, 28, 28)\n",
    "    all_imgs = all_imgs.reshape(all_imgs.shape[0], -1)  # shape: (N, 784)\n",
    "    tsne = TSNE(n_components=2, random_state=42)\n",
    "    tsne_results = tsne.fit_transform(all_imgs)\n",
    "    \n",
    "    plt.figure(figsize=(10, 8))\n",
    "    plt.scatter(tsne_results[:len(mis), 0], tsne_results[:len(mis), 1], c='red', label='Misclassified')\n",
    "    plt.scatter(tsne_results[len(mis):, 0], tsne_results[len(mis):, 1], c='blue', label='Correctly Classified')\n",
    "    plt.legend()\n",
    "    plt.show()"
   ]
  },
  {
   "cell_type": "code",
   "execution_count": null,
   "id": "1a752bf3",
   "metadata": {},
   "outputs": [],
   "source": [
    "def check_outlier(train_loader, model):\n",
    "    correct_sample = None\n",
    "    incorrect_sample = None\n",
    "    \n",
    "    # Select a random sample from the training data\n",
    "    batch = next(iter(train_loader))  # batch[0] is the data, batch[1] is the labels\n",
    "    print(f'Batch (only images) shape: {batch[0].shape}')\n",
    "    \n",
    "    model.eval()\n",
    "    with torch.no_grad():\n",
    "        while correct_sample is None or incorrect_sample is None:\n",
    "            index = torch.randint(0, batch[0].size(0), (1,)).item()\n",
    "            sample = batch[0][index]  # select a random image from the batch\n",
    "            label = batch[1][index]\n",
    "            print(f'Sample shape: {sample.shape}')\n",
    "\n",
    "            # Check the sample's z score\n",
    "            z_score = (sample - batch[0].mean()) / batch[0].std()\n",
    "\n",
    "            print('Z-score =', z_score.mean(), 'Std =', z_score.std())\n",
    "                \n",
    "            output = model(sample)\n",
    "            # confidence = torch.softmax(output, dim=1)\n",
    "            # print(f'Confidence = {confidence.max()}')\n",
    "            \n",
    "            if output.argmax() == label:\n",
    "                correct_sample = sample\n",
    "                correct_sample = (correct_sample, label)\n",
    "                print(\"Sample is Correctly Classified\")\n",
    "            else:\n",
    "                incorrect_sample = sample\n",
    "                incorrect_sample = (incorrect_sample, label)\n",
    "                print(\"Sample is Misclassified\")\n",
    "\n",
    "\n",
    "            # Check if the sample is an outlier or inlier\n",
    "            if abs(z_score.mean()) > 2:\n",
    "                print(\"Sample is Outlier\")\n",
    "            else:\n",
    "                print(\"Sample is Inlier\")\n",
    "                \n",
    "        \n",
    "    return correct_sample, incorrect_sample"
   ]
  },
  {
   "cell_type": "markdown",
   "id": "0fc82215",
   "metadata": {},
   "source": [
    "## Run these"
   ]
  },
  {
   "cell_type": "code",
   "execution_count": 116,
   "id": "46271ff1",
   "metadata": {},
   "outputs": [],
   "source": [
    "directory = \"/Users/arghasreebanerjee/PycharmProjects/XAI_hypernetwork\"\n",
    "batch_size = 100\n",
    "random_seed = 42\n",
    "device = \"cuda\" if torch.cuda.is_available() else \"cpu\"\n",
    "learning_rate = 0.001\n",
    "weight_decay = 0.0001\n",
    "lr_decay = 0.1\n",
    "no_model = False\n",
    "model_directory = directory + f'/models/MLP/model_weights_mnist.pth'"
   ]
  },
  {
   "cell_type": "code",
   "execution_count": 120,
   "id": "32df191d",
   "metadata": {},
   "outputs": [
    {
     "name": "stdout",
     "output_type": "stream",
     "text": [
      "Total batches = 600\n"
     ]
    }
   ],
   "source": [
    "train_loader, valid_loader, test_loader = data_loader_MNIST(directory=directory+'/data',\n",
    "                                                            batch_size=batch_size,\n",
    "                                                            random_seed=random_seed,\n",
    "                                                            small=False,\n",
    "                                                            shuffle=False)\n",
    "\n",
    "image, _ = next(iter(train_loader))\n",
    "model = MLP(num_classes=10, input_size=image.size()[1:])\n",
    "\n",
    "model = model.to(device)\n",
    "\n",
    "criterion = nn.CrossEntropyLoss().to(device)\n",
    "optimizer = torch.optim.SGD(model.parameters(), lr=learning_rate, weight_decay=weight_decay, momentum=0.9)\n",
    "scheduler = optim.lr_scheduler.StepLR(optimizer, step_size=10, gamma=lr_decay)\n",
    "\n",
    "\n",
    "if no_model:\n",
    "    _, _, model, _, _ = train(train_loader, None, model,  # validation_data = None\n",
    "                                                epochs=2,\n",
    "                                                criterion=criterion, optimizer=optimizer, scheduler=scheduler)\n",
    "    torch.save(model.state_dict(), model_directory)\n",
    "else:\n",
    "    model.load_state_dict(torch.load(model_directory, \n",
    "                                 map_location=torch.device(device)))\n",
    "    \n",
    "state_dict = copy.deepcopy(model.state_dict())\n",
    "    "
   ]
  },
  {
   "cell_type": "markdown",
   "id": "a31133f3",
   "metadata": {},
   "source": [
    "## More investigations"
   ]
  },
  {
   "cell_type": "code",
   "execution_count": null,
   "id": "25cc3b16",
   "metadata": {},
   "outputs": [
    {
     "data": {
      "image/png": "[encoded data removed]",
      "text/plain": [
       "<Figure size 800x600 with 1 Axes>"
      ]
     },
     "metadata": {},
     "output_type": "display_data"
    }
   ],
   "source": [
    "find_z_scores(train_loader, model) \n",
    "## SSIM - structural outlier\n",
    "# perclass geometric median "
   ]
  },
  {
   "cell_type": "code",
   "execution_count": null,
   "id": "57502b0d",
   "metadata": {},
   "outputs": [],
   "source": [
    "visualize_dataset(train_loader, model)"
   ]
  },
  {
   "cell_type": "code",
   "execution_count": null,
   "id": "1998c4c8",
   "metadata": {},
   "outputs": [],
   "source": [
    "correct_sample, incorrect_sample = check_outlier(train_loader, model)"
   ]
  },
  {
   "cell_type": "code",
   "execution_count": 39,
   "id": "2f65ae57",
   "metadata": {},
   "outputs": [],
   "source": [
    "\n",
    "def check_confidence(correct_sample, incorrect_sample, ep):\n",
    "    # Checking confidence of the model before training \n",
    "    correct_image, correct_label = correct_sample\n",
    "    incorrect_image, incorrect_label = incorrect_sample\n",
    "\n",
    "    # Check confidence before training\n",
    "    model.eval()\n",
    "    with torch.no_grad():\n",
    "        correct_output = model(correct_image.unsqueeze(0))\n",
    "        incorrect_output = model(incorrect_image.unsqueeze(0))\n",
    "        \n",
    "        correct_confidence = torch.softmax(correct_output, dim=1)\n",
    "        incorrect_confidence = torch.softmax(incorrect_output, dim=1)\n",
    "        \n",
    "        print(f'Before training - Correct sample confidence: {correct_confidence.max().item():.4f}')\n",
    "        print(f'Before training - Incorrect sample confidence: {incorrect_confidence.max().item():.4f}')\n",
    "\n",
    "    # Create dataloaders for training\n",
    "    def create_sample_dataloader(samples, batch_size=2):\n",
    "        \"\"\"Create a dataloader from a list of (image, label) tuples\"\"\"\n",
    "        dataset = []\n",
    "        for image, label in samples:\n",
    "            dataset.append((image, label))\n",
    "        \n",
    "        return torch.utils.data.DataLoader(dataset, batch_size=batch_size, shuffle=True)\n",
    "\n",
    "    # Create dataloaders\n",
    "    both_samples = [correct_sample, incorrect_sample]\n",
    "    incorrect_only = [incorrect_sample]\n",
    "\n",
    "    both_loader = create_sample_dataloader(both_samples)\n",
    "    incorrect_loader = create_sample_dataloader(incorrect_only)\n",
    "\n",
    "    # Train model on both samples\n",
    "    model.train()\n",
    "    print(\"\\nTraining on both correct and incorrect samples...\")\n",
    "    for epoch in range(ep):  \n",
    "        for batch_idx, (data, target) in enumerate(both_loader):\n",
    "            data, target = data.to(device), target.to(device)\n",
    "            \n",
    "            optimizer.zero_grad()\n",
    "            output = model(data)\n",
    "            loss = criterion(output, target)\n",
    "            loss.backward()\n",
    "            optimizer.step()\n",
    "            \n",
    "            # if batch_idx == 0:\n",
    "            #     print(f'Epoch {epoch+1}, Loss: {loss.item():.4f}')\n",
    "\n",
    "    # Check confidence after training on both samples\n",
    "    model.eval()\n",
    "    with torch.no_grad():\n",
    "        correct_output = model(correct_image.unsqueeze(0))\n",
    "        incorrect_output = model(incorrect_image.unsqueeze(0))\n",
    "        \n",
    "        correct_confidence = torch.softmax(correct_output, dim=1)\n",
    "        incorrect_confidence = torch.softmax(incorrect_output, dim=1)\n",
    "        \n",
    "        print(f'\\nAfter training on both samples:')\n",
    "        print(f'Correct sample confidence: {correct_confidence.max().item():.4f}')\n",
    "        print(f'Incorrect sample confidence: {incorrect_confidence.max().item():.4f}')\n",
    "\n",
    "    # Reset model to original state\n",
    "    model.load_state_dict(torch.load(model_directory, map_location=torch.device(device)))\n",
    "\n",
    "    # Train model on incorrect sample only\n",
    "    model.train()\n",
    "    print(\"\\nTraining on incorrect sample only...\")\n",
    "    for epoch in range(5):  # Train for 5 epochs\n",
    "        for batch_idx, (data, target) in enumerate(incorrect_loader):\n",
    "            data, target = data.to(device), target.to(device)\n",
    "            \n",
    "            optimizer.zero_grad()\n",
    "            output = model(data)\n",
    "            loss = criterion(output, target)\n",
    "            loss.backward()\n",
    "            optimizer.step()\n",
    "            \n",
    "            # if batch_idx == 0:\n",
    "            #     print(f'Epoch {epoch+1}, Loss: {loss.item():.4f}')\n",
    "\n",
    "    # Check confidence after training on incorrect sample only\n",
    "    model.eval()\n",
    "    with torch.no_grad():\n",
    "        correct_output = model(correct_image.unsqueeze(0))\n",
    "        incorrect_output = model(incorrect_image.unsqueeze(0))\n",
    "        \n",
    "        correct_confidence = torch.softmax(correct_output, dim=1)\n",
    "        incorrect_confidence = torch.softmax(incorrect_output, dim=1)\n",
    "        \n",
    "        print(f'\\nAfter training on incorrect sample only:')\n",
    "        print(f'Correct sample confidence: {correct_confidence.max().item():.4f}')\n",
    "        print(f'Incorrect sample confidence: {incorrect_confidence.max().item():.4f}')\n"
   ]
  },
  {
   "cell_type": "code",
   "execution_count": 40,
   "id": "fdd84385",
   "metadata": {},
   "outputs": [
    {
     "name": "stdout",
     "output_type": "stream",
     "text": [
      "Before training - Correct sample confidence: 0.9888\n",
      "Before training - Incorrect sample confidence: 0.9998\n",
      "\n",
      "Training on both correct and incorrect samples...\n",
      "\n",
      "After training on both samples:\n",
      "Correct sample confidence: 0.9936\n",
      "Incorrect sample confidence: 0.9999\n",
      "\n",
      "Training on incorrect sample only...\n",
      "\n",
      "After training on incorrect sample only:\n",
      "Correct sample confidence: 0.9826\n",
      "Incorrect sample confidence: 0.9996\n"
     ]
    }
   ],
   "source": [
    "ep = 1  # epochs for training on the samples\n",
    "check_confidence(correct_sample, incorrect_sample, ep)"
   ]
  },
  {
   "cell_type": "markdown",
   "id": "0e7ef95f",
   "metadata": {},
   "source": [
    "**Summary**\n",
    "\n",
    "Until now I have seen a change in confidence scores when re-training with only the correct sample and incorrect sample. I tried to see if there was a correlation with a sample's outlierishness and the ability of a model to predict the sample correctly. None was found. "
   ]
  },
  {
   "cell_type": "markdown",
   "id": "2d63d485",
   "metadata": {},
   "source": [
    "**Next Steps**:\n",
    "\n",
    "> - Apply usual distillation loss (tries not to change the weights based on the old model's logits)\n",
    "> - Generating based on the replay of synthetic training samples. \n",
    "    > To answer: 1. How the generation process of the synthetic samples depend on the model logits/acivations of the incorrect sample. "
   ]
  },
  {
   "cell_type": "markdown",
   "id": "3ab1d82f",
   "metadata": {},
   "source": [
    "## Next: Distillation Loss + Retraining"
   ]
  },
  {
   "cell_type": "code",
   "execution_count": 41,
   "id": "a5042a19",
   "metadata": {},
   "outputs": [],
   "source": [
    "\n",
    "# Get a dataloader of the incorrect samples\n",
    "def get_incorrect_samples(model, test_loader):\n",
    "    images = []\n",
    "    labels = []\n",
    "    for batch in test_loader:\n",
    "        data, target = batch\n",
    "        output = model(data)\n",
    "        y_pred = output.argmax(dim=1)\n",
    "        indices = y_pred != target\n",
    "        images.extend(data[indices])\n",
    "        labels.extend(target[indices])\n",
    "    \n",
    "    from dataloaders.custom_dataloader import data_loader\n",
    "    incorrect_loader = data_loader(images=images, \n",
    "                                   labels=labels, \n",
    "                                   batch_size=1, \n",
    "                                   shuffle=False)\n",
    "    \n",
    "    # tested to see if the old model misclassifies the incorrect samples\n",
    "    # It does\n",
    "    \n",
    "    \n",
    "    return incorrect_loader"
   ]
  },
  {
   "cell_type": "code",
   "execution_count": 42,
   "id": "027df2d2",
   "metadata": {},
   "outputs": [
    {
     "name": "stdout",
     "output_type": "stream",
     "text": [
      "torch.Size([1747, 10]) 1747\n",
      " Trainig new model --> epoch = 1 \n",
      "torch.Size([1747, 10]) 1747\n"
     ]
    }
   ],
   "source": [
    "# Make a new changable model with new optimizer\n",
    "device = \"cuda\" if torch.cuda.is_available() else \"cpu\"\n",
    "new_model = MLP(num_classes=10, input_size=image.size()[1:])\n",
    "old_model_weights = copy.deepcopy(model.state_dict())\n",
    "new_model_optimizer = torch.optim.SGD(new_model.parameters(), \n",
    "                                      lr=learning_rate, \n",
    "                                      weight_decay=weight_decay, \n",
    "                                      momentum=0.9)\n",
    "\n",
    "new_model.load_state_dict(old_model_weights)\n",
    "new_model.to(device)\n",
    "\n",
    "\n",
    "# Apply distillation loss to the new model\n",
    "from model_trainers.trainer import lwf_train\n",
    "incorrect_loader = get_incorrect_samples(model, test_loader)\n",
    "\n",
    "new_model = lwf_train(incorrect_loader,\n",
    "              old_model=model, # old model\n",
    "              new_model=new_model, \n",
    "              optimizer_new_model=new_model_optimizer,\n",
    "              num_epochs=1, \n",
    "              temperature=2.0, \n",
    "              alpha=0.5, \n",
    "              lr=1e-3, \n",
    "              device=device)\n"
   ]
  },
  {
   "cell_type": "code",
   "execution_count": 43,
   "id": "7784764a",
   "metadata": {},
   "outputs": [
    {
     "name": "stdout",
     "output_type": "stream",
     "text": [
      "Accuracy of the old model for the TEST set: 0.8253\n",
      "Accuracy of the old model for the INCORRECT set: 0.0\n",
      "Accuracy of the old model for the TRAIN set: 0.8174814814814815\n",
      "--------------------------------\n",
      "Accuracy of the new model for the TEST set: 0.8254\n",
      "Accuracy of the new model for the INCORRECT set: 0.029765311963365768\n",
      "Accuracy of the new model for the TRAIN set: 0.8161481481481482\n"
     ]
    }
   ],
   "source": [
    "# Check the accuracy of the old model\n",
    "model.eval()\n",
    "with torch.no_grad():\n",
    "    from model_trainers.trainer import predict, evaluate\n",
    "    y_true, y_pred = predict(model, test_loader)\n",
    "    accuracy = evaluate(y_true, y_pred)\n",
    "    print(f'Accuracy of the old model for the TEST set: {accuracy}')\n",
    "    \n",
    "    y_true, y_pred = predict(model, incorrect_loader)\n",
    "    accuracy = evaluate(y_true, y_pred)\n",
    "    print(f'Accuracy of the old model for the INCORRECT set: {accuracy}')\n",
    "    \n",
    "    y_true, y_pred = predict(model, train_loader)\n",
    "    accuracy = evaluate(y_true, y_pred)\n",
    "    print(f'Accuracy of the old model for the TRAIN set: {accuracy}')\n",
    "    \n",
    "print(\"--------------------------------\")\n",
    "\n",
    "# Check the accuracy of the new model\n",
    "new_model.eval()\n",
    "with torch.no_grad():\n",
    "    from model_trainers.trainer import predict, evaluate\n",
    "    y_true, y_pred = predict(new_model, test_loader)\n",
    "    accuracy = evaluate(y_true, y_pred)\n",
    "    print(f'Accuracy of the new model for the TEST set: {accuracy}')\n",
    "    \n",
    "    y_true, y_pred = predict(new_model, incorrect_loader)\n",
    "    accuracy = evaluate(y_true, y_pred)\n",
    "    print(f'Accuracy of the new model for the INCORRECT set: {accuracy}')\n",
    "    \n",
    "    y_true, y_pred = predict(new_model, train_loader)\n",
    "    accuracy = evaluate(y_true, y_pred)\n",
    "    print(f'Accuracy of the new model for the TRAIN set: {accuracy}')"
   ]
  },
  {
   "cell_type": "code",
   "execution_count": 47,
   "id": "323d0448",
   "metadata": {},
   "outputs": [
    {
     "name": "stdout",
     "output_type": "stream",
     "text": [
      "\n",
      "------------------------ epoch = 1 -----------------------------\n",
      "No validation data found. Checking training data accuracy instead .. \n",
      "Accuracy of val data is 0.5449341728677733\n",
      "\n"
     ]
    }
   ],
   "source": [
    "# Make a new changable model with new optimizer\n",
    "device = \"cuda\" if torch.cuda.is_available() else \"cpu\"\n",
    "new_model = MLP(num_classes=10, input_size=image.size()[1:])\n",
    "old_model_weights = copy.deepcopy(model.state_dict())\n",
    "new_model_optimizer = torch.optim.SGD(new_model.parameters(), \n",
    "                                      lr=learning_rate, \n",
    "                                      weight_decay=weight_decay, \n",
    "                                      momentum=0.9)\n",
    "criterion = nn.CrossEntropyLoss()\n",
    "scheduler = torch.optim.lr_scheduler.StepLR(optimizer, step_size=7, gamma=0.1)\n",
    "\n",
    "new_model.load_state_dict(old_model_weights)\n",
    "new_model.to(device)\n",
    "\n",
    "\n",
    "# Apply distillation loss to the new model\n",
    "from model_trainers.trainer import lwf_train\n",
    "incorrect_loader = get_incorrect_samples(model, test_loader)\n",
    "\n",
    "\n",
    "_=train(incorrect_loader, \n",
    "                  validation_data=None, \n",
    "                  model=new_model, \n",
    "                  epochs=1, \n",
    "                  criterion=criterion, \n",
    "                  optimizer=new_model_optimizer, \n",
    "                  scheduler=scheduler)"
   ]
  },
  {
   "cell_type": "code",
   "execution_count": 48,
   "id": "4b3d8f4a",
   "metadata": {},
   "outputs": [
    {
     "name": "stdout",
     "output_type": "stream",
     "text": [
      "Accuracy of the old model for the TEST set: 0.8253\n",
      "Accuracy of the old model for the INCORRECT set: 0.0\n",
      "Accuracy of the old model for the TRAIN set: 0.8174814814814815\n",
      "--------------------------------\n",
      "Accuracy of the new model for the TEST set: 0.4077\n",
      "Accuracy of the new model for the INCORRECT set: 0.5449341728677733\n",
      "Accuracy of the new model for the TRAIN set: 0.4094259259259259\n"
     ]
    }
   ],
   "source": [
    "# Check the accuracy of the old model\n",
    "model.eval()\n",
    "with torch.no_grad():\n",
    "    from model_trainers.trainer import predict, evaluate\n",
    "    y_true, y_pred = predict(model, test_loader)\n",
    "    accuracy = evaluate(y_true, y_pred)\n",
    "    print(f'Accuracy of the old model for the TEST set: {accuracy}')\n",
    "    \n",
    "    y_true, y_pred = predict(model, incorrect_loader)\n",
    "    accuracy = evaluate(y_true, y_pred)\n",
    "    print(f'Accuracy of the old model for the INCORRECT set: {accuracy}')\n",
    "    \n",
    "    y_true, y_pred = predict(model, train_loader)\n",
    "    accuracy = evaluate(y_true, y_pred)\n",
    "    print(f'Accuracy of the old model for the TRAIN set: {accuracy}')\n",
    "    \n",
    "print(\"--------------------------------\")\n",
    "\n",
    "# Check the accuracy of the new model\n",
    "new_model.eval()\n",
    "with torch.no_grad():\n",
    "    from model_trainers.trainer import predict, evaluate\n",
    "    y_true, y_pred = predict(new_model, test_loader)\n",
    "    accuracy = evaluate(y_true, y_pred)\n",
    "    print(f'Accuracy of the new model for the TEST set: {accuracy}')\n",
    "    \n",
    "    y_true, y_pred = predict(new_model, incorrect_loader)\n",
    "    accuracy = evaluate(y_true, y_pred)\n",
    "    print(f'Accuracy of the new model for the INCORRECT set: {accuracy}')\n",
    "    \n",
    "    y_true, y_pred = predict(new_model, train_loader)\n",
    "    accuracy = evaluate(y_true, y_pred)\n",
    "    print(f'Accuracy of the new model for the TRAIN set: {accuracy}')"
   ]
  },
  {
   "cell_type": "markdown",
   "id": "f149c537",
   "metadata": {},
   "source": [
    "**Summary yet:**\n",
    "\n",
    "- Distillation loss indead helps vs only trying the re-training loss.\n",
    "- Retraining however helps to correct more incorrect samples.\n",
    "- When trying to distill the test performance improves, incorrect loader performance improves, but training performance decreases."
   ]
  },
  {
   "cell_type": "markdown",
   "id": "ea2e9e48",
   "metadata": {},
   "source": [
    "## Next: Retraining with one more training sample"
   ]
  },
  {
   "cell_type": "code",
   "execution_count": 55,
   "id": "53375ada",
   "metadata": {},
   "outputs": [
    {
     "data": {
      "text/plain": [
       "60000"
      ]
     },
     "execution_count": 55,
     "metadata": {},
     "output_type": "execute_result"
    }
   ],
   "source": [
    "len(train_loader.dataset)"
   ]
  },
  {
   "cell_type": "code",
   "execution_count": 108,
   "id": "15cafb21",
   "metadata": {},
   "outputs": [],
   "source": [
    "def get_cor_plus_incor_loader(model, incorrect_loader, train_loader):\n",
    "    \"\"\"Here the correct and the incorrect samples would be combined in a batch \n",
    "    \"\"\"\n",
    "    # From the incorrect loader, get the label\n",
    "    # Send the label to the train loader and get a sample of the same label\n",
    "    # Check if the sample is correctly classified\n",
    "    # If it is not, reget the sample \n",
    "    # If is is add to with the incorrect loader sample and make it into a batch \n",
    "    def select_training_sample(train_loader, label):\n",
    "        random_index = random.randint(0, len(train_loader.dataset) - 1)\n",
    "        sample = train_loader.dataset[random_index] \n",
    "        if sample[1] == label.item():\n",
    "            return sample\n",
    "        else:\n",
    "            return select_training_sample(train_loader, label)\n",
    "\n",
    "    batches = []\n",
    "    for sample in incorrect_loader:\n",
    "        label = sample[1]\n",
    "        \n",
    "        # Get a random sample from the train loader with the same label\n",
    "        train_sample = select_training_sample(train_loader, label)\n",
    "        train_label = torch.tensor([train_sample[1]], dtype=torch.long).to(device)\n",
    "        batches.append((sample[0][0], sample[1]))\n",
    "        batches.append((train_sample[0], train_label))\n",
    "        \n",
    "    loader = torch.utils.data.DataLoader(batches, batch_size=2, shuffle=False)  \n",
    "    # Make sure shuffle is False so that the samples from the same traget class in the same batch \n",
    "    # print(len(loader), len(incorrect_loader))  # these numbers should match -> it matches\n",
    "    \n",
    "    return loader\n",
    "        "
   ]
  },
  {
   "cell_type": "code",
   "execution_count": 126,
   "id": "5a3eb59c",
   "metadata": {},
   "outputs": [],
   "source": [
    "# Create the incorrect loader\n",
    "incorrect_loader = get_incorrect_samples(model, test_loader)\n",
    "\n",
    "\n",
    "def run(model, incorrect_loader, train_loader, epochs=1):\n",
    "    # Create the incorrect + correct sample in a batch loader\n",
    "    cor_plus_incor_loader = get_cor_plus_incor_loader(model, incorrect_loader, train_loader)\n",
    "    \n",
    "    # Train the model on the incorrect + correct sample loader\n",
    "    model.load_state_dict(state_dict)\n",
    "    for epoch in range(epochs):\n",
    "            # print(f'\\n---------- epoch = {epoch + 1} ----------')\n",
    "            model.train()\n",
    "            both_acc_test=[]\n",
    "            both_acc_incor=[]\n",
    "            both_acc_train=[]\n",
    "            for i, x_batch in enumerate(cor_plus_incor_loader):\n",
    "                if i==10:\n",
    "                    break\n",
    "                # print(f'----Batch {i}----')\n",
    "                images, labels = x_batch\n",
    "                images = images.to(device)\n",
    "                labels = labels.to(device)\n",
    "                labels = torch.nn.functional.one_hot(labels, num_classes=10).float().squeeze(1)\n",
    "            \n",
    "                y_pred = model(images)\n",
    "                loss = criterion(y_pred.to(device), labels).to(device)\n",
    "                optimizer.zero_grad()\n",
    "                loss.backward(retain_graph = True)\n",
    "                optimizer.step()\n",
    "                \n",
    "                y_true, y_pred = predict(model, test_loader)\n",
    "                accuracy = evaluate(y_true, y_pred)\n",
    "                both_acc_test.append(accuracy)\n",
    "\n",
    "                y_true, y_pred = predict(model, incorrect_loader)\n",
    "                accuracy = evaluate(y_true, y_pred)\n",
    "                both_acc_incor.append(accuracy)\n",
    "                \n",
    "                y_true, y_pred = predict(model, train_loader)\n",
    "                accuracy = evaluate(y_true, y_pred)\n",
    "                both_acc_train.append(accuracy)\n",
    "                \n",
    "    \n",
    "    # Train the model on the incorrect sample loader\n",
    "    model.load_state_dict(state_dict)\n",
    "    for epoch in range(epochs):\n",
    "            # print(f'\\n---------- epoch = {epoch + 1} ----------')\n",
    "            model.train()\n",
    "            acc_incor=[]\n",
    "            acc_test=[]\n",
    "            acc_train=[]\n",
    "            for i, x_batch in enumerate(incorrect_loader):\n",
    "                if i==10:\n",
    "                    break\n",
    "                # print(f'----Batch {i}----')\n",
    "                images, labels = x_batch\n",
    "                images = images.to(device)\n",
    "                labels = labels.to(device)\n",
    "                labels = torch.nn.functional.one_hot(labels, num_classes=10).float().squeeze(1)\n",
    "            \n",
    "                y_pred = model(images)\n",
    "                loss = criterion(y_pred.to(device), labels).to(device)\n",
    "                optimizer.zero_grad()\n",
    "                loss.backward(retain_graph = True)\n",
    "                optimizer.step()\n",
    "                \n",
    "                y_true, y_pred = predict(model, test_loader)\n",
    "                accuracy = evaluate(y_true, y_pred)\n",
    "                acc_test.append(accuracy)\n",
    "                \n",
    "                y_true, y_pred = predict(model, incorrect_loader)\n",
    "                accuracy = evaluate(y_true, y_pred)\n",
    "                acc_incor.append(accuracy)\n",
    "                \n",
    "                y_true, y_pred = predict(model, train_loader)\n",
    "                accuracy = evaluate(y_true, y_pred)\n",
    "                acc_train.append(accuracy)\n",
    "                \n",
    "    return both_acc_test, both_acc_incor, both_acc_train, acc_test, acc_incor, acc_train\n",
    "                \n",
    "\n"
   ]
  },
  {
   "cell_type": "code",
   "execution_count": 129,
   "id": "454ce32a",
   "metadata": {},
   "outputs": [
    {
     "ename": "ValueError",
     "evalue": "num must be an integer with 1 <= num <= 2, not 3",
     "output_type": "error",
     "traceback": [
      "\u001b[0;31m---------------------------------------------------------------------------\u001b[0m",
      "\u001b[0;31mValueError\u001b[0m                                Traceback (most recent call last)",
      "Cell \u001b[0;32mIn[129], line 27\u001b[0m\n\u001b[1;32m     24\u001b[0m plt\u001b[38;5;241m.\u001b[39mlegend()\n\u001b[1;32m     26\u001b[0m \u001b[38;5;28;01mif\u001b[39;00m i\u001b[38;5;241m==\u001b[39m\u001b[38;5;241m0\u001b[39m:\n\u001b[0;32m---> 27\u001b[0m     \u001b[43mplt\u001b[49m\u001b[38;5;241;43m.\u001b[39;49m\u001b[43msubplot\u001b[49m\u001b[43m(\u001b[49m\u001b[38;5;241;43m2\u001b[39;49m\u001b[43m,\u001b[49m\u001b[43m \u001b[49m\u001b[38;5;241;43m1\u001b[39;49m\u001b[43m,\u001b[49m\u001b[43m \u001b[49m\u001b[38;5;241;43m3\u001b[39;49m\u001b[43m)\u001b[49m\n\u001b[1;32m     28\u001b[0m plt\u001b[38;5;241m.\u001b[39mplot(both_acc_train, label\u001b[38;5;241m=\u001b[39m\u001b[38;5;124m'\u001b[39m\u001b[38;5;124mCorrect+incorrect\u001b[39m\u001b[38;5;124m'\u001b[39m)\n\u001b[1;32m     29\u001b[0m plt\u001b[38;5;241m.\u001b[39mplot(acc_train, label\u001b[38;5;241m=\u001b[39m\u001b[38;5;124m'\u001b[39m\u001b[38;5;124mCorrect\u001b[39m\u001b[38;5;124m'\u001b[39m)\n",
      "File \u001b[0;32m~/opt/anaconda3/envs/XAI_week1/lib/python3.10/site-packages/matplotlib/pyplot.py:1323\u001b[0m, in \u001b[0;36msubplot\u001b[0;34m(*args, **kwargs)\u001b[0m\n\u001b[1;32m   1320\u001b[0m fig \u001b[38;5;241m=\u001b[39m gcf()\n\u001b[1;32m   1322\u001b[0m \u001b[38;5;66;03m# First, search for an existing subplot with a matching spec.\u001b[39;00m\n\u001b[0;32m-> 1323\u001b[0m key \u001b[38;5;241m=\u001b[39m \u001b[43mSubplotSpec\u001b[49m\u001b[38;5;241;43m.\u001b[39;49m\u001b[43m_from_subplot_args\u001b[49m\u001b[43m(\u001b[49m\u001b[43mfig\u001b[49m\u001b[43m,\u001b[49m\u001b[43m \u001b[49m\u001b[43margs\u001b[49m\u001b[43m)\u001b[49m\n\u001b[1;32m   1325\u001b[0m \u001b[38;5;28;01mfor\u001b[39;00m ax \u001b[38;5;129;01min\u001b[39;00m fig\u001b[38;5;241m.\u001b[39maxes:\n\u001b[1;32m   1326\u001b[0m     \u001b[38;5;66;03m# if we found an Axes at the position sort out if we can re-use it\u001b[39;00m\n\u001b[1;32m   1327\u001b[0m     \u001b[38;5;28;01mif\u001b[39;00m ax\u001b[38;5;241m.\u001b[39mget_subplotspec() \u001b[38;5;241m==\u001b[39m key:\n\u001b[1;32m   1328\u001b[0m         \u001b[38;5;66;03m# if the user passed no kwargs, re-use\u001b[39;00m\n",
      "File \u001b[0;32m~/opt/anaconda3/envs/XAI_week1/lib/python3.10/site-packages/matplotlib/gridspec.py:598\u001b[0m, in \u001b[0;36mSubplotSpec._from_subplot_args\u001b[0;34m(figure, args)\u001b[0m\n\u001b[1;32m    596\u001b[0m \u001b[38;5;28;01melse\u001b[39;00m:\n\u001b[1;32m    597\u001b[0m     \u001b[38;5;28;01mif\u001b[39;00m \u001b[38;5;129;01mnot\u001b[39;00m \u001b[38;5;28misinstance\u001b[39m(num, Integral) \u001b[38;5;129;01mor\u001b[39;00m num \u001b[38;5;241m<\u001b[39m \u001b[38;5;241m1\u001b[39m \u001b[38;5;129;01mor\u001b[39;00m num \u001b[38;5;241m>\u001b[39m rows\u001b[38;5;241m*\u001b[39mcols:\n\u001b[0;32m--> 598\u001b[0m         \u001b[38;5;28;01mraise\u001b[39;00m \u001b[38;5;167;01mValueError\u001b[39;00m(\n\u001b[1;32m    599\u001b[0m             \u001b[38;5;124mf\u001b[39m\u001b[38;5;124m\"\u001b[39m\u001b[38;5;124mnum must be an integer with 1 <= num <= \u001b[39m\u001b[38;5;132;01m{\u001b[39;00mrows\u001b[38;5;241m*\u001b[39mcols\u001b[38;5;132;01m}\u001b[39;00m\u001b[38;5;124m, \u001b[39m\u001b[38;5;124m\"\u001b[39m\n\u001b[1;32m    600\u001b[0m             \u001b[38;5;124mf\u001b[39m\u001b[38;5;124m\"\u001b[39m\u001b[38;5;124mnot \u001b[39m\u001b[38;5;132;01m{\u001b[39;00mnum\u001b[38;5;132;01m!r}\u001b[39;00m\u001b[38;5;124m\"\u001b[39m\n\u001b[1;32m    601\u001b[0m         )\n\u001b[1;32m    602\u001b[0m     i \u001b[38;5;241m=\u001b[39m j \u001b[38;5;241m=\u001b[39m num\n\u001b[1;32m    603\u001b[0m \u001b[38;5;28;01mreturn\u001b[39;00m gs[i\u001b[38;5;241m-\u001b[39m\u001b[38;5;241m1\u001b[39m:j]\n",
      "\u001b[0;31mValueError\u001b[0m: num must be an integer with 1 <= num <= 2, not 3"
     ]
    },
    {
     "data": {
      "image/png": "[encoded data removed]",
      "text/plain": [
       "<Figure size 1200x800 with 2 Axes>"
      ]
     },
     "metadata": {},
     "output_type": "display_data"
    }
   ],
   "source": [
    "for i in range(10):\n",
    "    both_acc_test, both_acc_incor, both_acc_train, acc_test, acc_incor, acc_train = run(model, incorrect_loader, train_loader)\n",
    "    import matplotlib.pyplot as plt\n",
    "\n",
    "    # Plotting the accuracy lists in the same plot\n",
    "    if i==0:\n",
    "        plt.figure(figsize=(12, 8))\n",
    "\n",
    "    # Plot both_acc_test, both_acc_incor, both_acc_train in the same subplot\n",
    "    if i==0:\n",
    "        plt.subplot(2, 1, 1)\n",
    "    plt.plot(both_acc_test, label='Correct+incorrect')\n",
    "    plt.plot(acc_test, label='Incorrect')\n",
    "    plt.xlabel('Batches')\n",
    "    plt.ylabel('Test Accuracy')\n",
    "    plt.legend()\n",
    "    \n",
    "    if i==0:\n",
    "        plt.subplot(2, 1, 2)\n",
    "    plt.plot(both_acc_incor, label='Correct+incorrect')\n",
    "    plt.plot(acc_incor, label='Incorrect')\n",
    "    plt.xlabel('Batches')\n",
    "    plt.ylabel('Incorrect Loader Accuracy')\n",
    "    plt.legend()\n",
    "    \n",
    "    if i==0:\n",
    "        plt.subplot(2, 1, 3)\n",
    "    plt.plot(both_acc_train, label='Correct+incorrect')\n",
    "    plt.plot(acc_train, label='Correct')\n",
    "    plt.xlabel('Batches')\n",
    "    plt.ylabel('Train Accuracy')\n",
    "    plt.legend()\n",
    "\n",
    "\n",
    "plt.tight_layout()\n",
    "plt.show()\n"
   ]
  },
  {
   "cell_type": "markdown",
   "id": "c040e1f0",
   "metadata": {},
   "source": [
    "Caveats after talking to matthew:\n",
    "- The letting go of learned weights would be controlled by 80% correct samples while training in the later stages. \n",
    "- But the letting go of learned weights would be controlled by 0% correct samples during test time adaption. This is what causing the complete letting go/catastrophic forgetting. \n",
    "- However if we have one correct sample along with the incorrect sample, then the letting go would not be that much, but it would still happen.\n",
    "- How to avoid this?\n",
    "- This exact research is going on, so I cannot do anything about it right now. \n",
    "So instead do what? \n",
    "- Mostly my approach is a replay based method"
   ]
  },
  {
   "cell_type": "code",
   "execution_count": null,
   "id": "b7efc1fc",
   "metadata": {},
   "outputs": [],
   "source": []
  },
  {
   "cell_type": "code",
   "execution_count": null,
   "id": "41d92c54",
   "metadata": {},
   "outputs": [],
   "source": []
  }
 ],
 "metadata": {
  "kernelspec": {
   "display_name": "XAI_week1",
   "language": "python",
   "name": "python3"
  },
  "language_info": {
   "codemirror_mode": {
    "name": "ipython",
    "version": 3
   },
   "file_extension": ".py",
   "mimetype": "text/x-python",
   "name": "python",
   "nbconvert_exporter": "python",
   "pygments_lexer": "ipython3",
   "version": "3.10.11"
  }
 },
 "nbformat": 4,
 "nbformat_minor": 5
}
